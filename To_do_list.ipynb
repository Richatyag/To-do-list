{
  "nbformat": 4,
  "nbformat_minor": 0,
  "metadata": {
    "colab": {
      "provenance": [],
      "include_colab_link": true
    },
    "kernelspec": {
      "name": "python3",
      "display_name": "Python 3"
    },
    "language_info": {
      "name": "python"
    }
  },
  "cells": [
    {
      "cell_type": "markdown",
      "metadata": {
        "id": "view-in-github",
        "colab_type": "text"
      },
      "source": [
        "<a href=\"https://colab.research.google.com/github/Richatyag/To-do-list/blob/main/To_do_list.ipynb\" target=\"_parent\"><img src=\"https://colab.research.google.com/assets/colab-badge.svg\" alt=\"Open In Colab\"/></a>"
      ]
    },
    {
      "cell_type": "code",
      "source": [
        "#Initialize an empty list to store tasks\n",
        "to_do_list = []\n",
        "\n",
        "\n",
        "#create functions to display the current to-do-list\n",
        "def display_list():\n",
        "  if len(to_do_list) == 0:\n",
        "    print(\"\\n Your to do list is empty!\")\n",
        "  else:\n",
        "    print(\"\\n Your to do list: \")\n",
        "    for i, task in enumerate(to_do_list,1):\n",
        "      print(f\"{i}.{task}\")\n",
        "\n",
        "    # add a task\n",
        "def add_task(task):\n",
        "  to_do_list.append(task)\n",
        "  print(f\"Task '{task}' added successfully!\")\n",
        "\n",
        "  #function to remove a task\n",
        "def remove_task(task_number):\n",
        "  if 0 < task_number <=len(to_do_list):\n",
        "    removed_task = to_do_list.pop(task_number - 1)\n",
        "    print(f\"Task '{removed_task}'removed successfully!\" )\n",
        "  else:\n",
        "    print(\"Invalid task number. Please try again.\")\n",
        "\n",
        "\n",
        "    #Update a task\n",
        "def update_task(task_number,new_task):\n",
        "  if 0 < task_number <= len(to_do_list):\n",
        "    old_task = to_do_list[task_number - 1]\n",
        "    to_do_list[task_number - 1] = new_task\n",
        "\n",
        "    print(f\"Task '{old_task} updated to '{new_task}' !\")\n",
        "\n",
        "  else:\n",
        "   print(\"Invalid task number. Please try again.\")\n",
        "\n",
        "\n",
        "\n",
        "#Loops to interact with user\n",
        "def main():\n",
        "  while True:\n",
        "    print(\"\\n--To-Do list Menu--\")\n",
        "    print(\"1. View To-Do List\")\n",
        "    print(\"2. Add Task\")\n",
        "    print(\"3. Remove Task\")\n",
        "    print(\"4. Update Task\")\n",
        "    print(\"5. Exit\")\n",
        "\n",
        "    choice = input(\"Enter your choice(1-5):\")\n",
        "    if choice == \"1\":\n",
        "      display_list()\n",
        "    elif choice == \"2\":\n",
        "      task = input(\"Enter the task to add:\")\n",
        "      add_task(task)\n",
        "    elif choice == \"3\":\n",
        "      display_list()\n",
        "\n",
        "      try:\n",
        "        task_number = int(input(\"Enter the task number to remove:\"))\n",
        "        remove_task(task_number)\n",
        "      except ValueError:\n",
        "        print(\"Please enter a valid number.\")\n",
        "    elif choice == \"4\":\n",
        "      display_list()\n",
        "      try:\n",
        "        task_number = int(input(\"Enter the task number to update: \"))\n",
        "        new_task = input(\"Enter new task: \")\n",
        "        update_task(task_number,new_task)\n",
        "      except ValueError:\n",
        "        print(\"Please enter a valid number: \")\n",
        "    elif choice == \"5\":\n",
        "      print(\"Existing the To-Do List Application. Goodbye!\")\n",
        "      break\n",
        "    else:\n",
        "        print(\"Invalid choice. Please select a valid option.\")\n",
        "\n",
        "main()\n",
        "\n",
        "\n",
        "\n",
        "\n",
        "\n",
        "\n",
        "\n",
        "\n",
        "\n"
      ],
      "metadata": {
        "id": "Nz1zH2Zz07fG",
        "outputId": "5d4206e0-11bf-4a40-e5e1-0b19363598b7",
        "colab": {
          "base_uri": "https://localhost:8080/"
        }
      },
      "execution_count": null,
      "outputs": [
        {
          "output_type": "stream",
          "name": "stdout",
          "text": [
            "\n",
            "--To-Do list Menu--\n",
            "1. View To-Do List\n",
            "2. Add Task\n",
            "3. Remove Task\n",
            "4. Update Task\n",
            "5. Exit\n"
          ]
        }
      ]
    },
    {
      "cell_type": "code",
      "source": [
        "\n"
      ],
      "metadata": {
        "id": "MMQvSvSZ4sWC"
      },
      "execution_count": 3,
      "outputs": []
    },
    {
      "cell_type": "code",
      "source": [],
      "metadata": {
        "id": "y1wgfyfz5-Hv"
      },
      "execution_count": 4,
      "outputs": []
    },
    {
      "cell_type": "code",
      "source": [],
      "metadata": {
        "id": "hQszeJQ9ChJJ"
      },
      "execution_count": null,
      "outputs": []
    }
  ]
}